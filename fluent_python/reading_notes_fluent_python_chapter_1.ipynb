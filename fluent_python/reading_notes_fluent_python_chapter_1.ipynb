{
  "nbformat": 4,
  "nbformat_minor": 0,
  "metadata": {
    "colab": {
      "provenance": []
    },
    "kernelspec": {
      "name": "python3",
      "display_name": "Python 3"
    },
    "language_info": {
      "name": "python"
    }
  },
  "cells": [
    {
      "cell_type": "markdown",
      "source": [
        "# Reading Notes: Fluent Python, Chapter 1\n",
        "\n",
        "This notebook contains notes I took from the 1st chapter of the book Fluent Python, by Luciano Ramalho. The notes are intertwined with executable code examples.\n",
        "\n",
        "## Special Methods are your friends!\n",
        "\n",
        "Special methods, also known as dunder methods, are predefined methods that allows us to customize the behavior of objects. They are your friends and can make for a much more Pythonic interaction with classes.\n",
        "\n",
        "> The first thing to know about special methods is that they are meant to be called by the Python interpreter, and not by you. You don’t write `my_object.__len__()`. You write `len(my_object)` and, if my_object is an instance of a user-defined class, then Python calls the `__len__` method you implemented.\n",
        "\n",
        "Let's implement two card deck classes, one with and the other without special methods."
      ],
      "metadata": {
        "id": "q5fiIcLH5aaE"
      }
    },
    {
      "cell_type": "code",
      "execution_count": null,
      "metadata": {
        "id": "bBlm-77I5Z3m"
      },
      "outputs": [],
      "source": [
        "import collections\n",
        "\n",
        "Card = collections.namedtuple('Card', ['rank', 'suit'])\n",
        "\n",
        "\n",
        "class FrenchDeckWithSpecialMethods:\n",
        "    ranks = [str(n) for n in range(2, 11)] + list('JQKA')\n",
        "    suits = 'spades diamonds clubs hearts'.split()\n",
        "\n",
        "    def __init__(self):\n",
        "        self._cards = [Card(rank, suit) for suit in self.suits\n",
        "                                        for rank in self.ranks]\n",
        "\n",
        "    def __len__(self):\n",
        "        return len(self._cards)\n",
        "\n",
        "    def __getitem__(self, position):\n",
        "        return self._cards[position]\n",
        "\n",
        "\n",
        "class FrenchDeckWithoutSpecialMethods:\n",
        "    ranks = [str(n) for n in range(2, 11)] + list('JQKA')\n",
        "    suits = 'spades diamonds clubs hearts'.split()\n",
        "\n",
        "    def __init__(self):\n",
        "        self._cards = [Card(rank, suit) for suit in self.suits\n",
        "                                        for rank in self.ranks]\n",
        "\n",
        "    def length(self):\n",
        "        return len(self._cards)\n",
        "\n",
        "    def get_item(self, position):\n",
        "        return self._cards[position]\n"
      ]
    },
    {
      "cell_type": "markdown",
      "source": [
        "There are advantages to the use of special methods. Let's say you want to check the length of the deck. In Python, checking the length is usually done with the built-in `len`... However, that won't work for instances of `FrenchDeckWithoutSpecialMethods`:"
      ],
      "metadata": {
        "id": "BMaEU7ua8IXP"
      }
    },
    {
      "cell_type": "code",
      "source": [
        "deck_without_special_methods = FrenchDeckWithoutSpecialMethods()\n",
        "\n",
        "try:\n",
        "  len(deck_without_special_methods)\n",
        "except Exception as e:\n",
        "  print(f\"Something went wrong: {e}\")"
      ],
      "metadata": {
        "colab": {
          "base_uri": "https://localhost:8080/"
        },
        "id": "kydclK5g9eMu",
        "outputId": "69b004df-7ea8-4566-d329-438666d1130a"
      },
      "execution_count": null,
      "outputs": [
        {
          "output_type": "stream",
          "name": "stdout",
          "text": [
            "Something went wrong: object of type 'FrenchDeckWithoutSpecialMethods' has no len()\n"
          ]
        }
      ]
    },
    {
      "cell_type": "markdown",
      "source": [
        "This happens because what `len` does is checking for the special method `__len__` of the object, then calling it. Since what the object above has instead is a regular `length` class, we would need to call `deck_without_special_methods.length()` to achieve our goal. While there is nothing inherently wrong with this, it's not intuitive to the Python programmer or Pythonic. The Pythonic way of getting the length of an object is, as said, calling the built-in `len`. Which we can do if our class leverages the special method `__len__`!\n",
        "\n",
        "> But the interpreter takes a shortcut when dealing for built-in types (...) Python variable-sized collections written in C include a struct called `PyVarObject`, which has an `ob_size` field holding the number of items in the collection. So, if `my_object` is an instance of one of those built-ins, then `len(my_object)` retrieves the value of the `ob_size` field, and this is much faster than calling a method."
      ],
      "metadata": {
        "id": "8m08-mGY-Osx"
      }
    },
    {
      "cell_type": "code",
      "source": [
        "deck_with_special_methods = FrenchDeckWithSpecialMethods()\n",
        "\n",
        "print(len(deck_with_special_methods))"
      ],
      "metadata": {
        "colab": {
          "base_uri": "https://localhost:8080/"
        },
        "id": "dWiWFNJ5ALQn",
        "outputId": "1c2f594d-66d5-4c1b-ff5c-46b131059095"
      },
      "execution_count": null,
      "outputs": [
        {
          "output_type": "stream",
          "name": "stdout",
          "text": [
            "52\n"
          ]
        }
      ]
    },
    {
      "cell_type": "markdown",
      "source": [
        "The same is true for getting an item from an object. The Intuitive way of doing that is using the `[]` operator. Like `len`, it calls a special method (`__getitem__` in this case). That means we can't use this operator in objects that have this special method. Since `deck_with_special_methods` does, it supports slicing and `in`, it is iterable, and more!"
      ],
      "metadata": {
        "id": "qX1z_ZFQAPfE"
      }
    },
    {
      "cell_type": "code",
      "source": [
        "print(f\"First item of deck: {deck_with_special_methods[0]}\")\n",
        "\n",
        "print(\"First 3 cards of deck:\")\n",
        "for card in deck_with_special_methods[:3]:\n",
        "  print(f\"  {card}\")"
      ],
      "metadata": {
        "colab": {
          "base_uri": "https://localhost:8080/"
        },
        "id": "NgWlpV_oB1JF",
        "outputId": "ba643bb1-32a5-489c-a3ec-8ac95fa5864d"
      },
      "execution_count": null,
      "outputs": [
        {
          "output_type": "stream",
          "name": "stdout",
          "text": [
            "First item of deck: Card(rank='2', suit='spades')\n",
            "First 3 cards of deck:\n",
            "  Card(rank='2', suit='spades')\n",
            "  Card(rank='3', suit='spades')\n",
            "  Card(rank='4', suit='spades')\n"
          ]
        }
      ]
    },
    {
      "cell_type": "markdown",
      "source": [
        "Special methods are your friends because they make for Pythonic classes, which are intuitive to use and can leverage much more of Python's built-in functionalities.\n",
        "\n",
        "> Normally, your code should not have many direct calls to special methods. (...) If you need to invoke a special method, it is usually better to call the related built-in\n",
        "function (e.g., len, iter, str, etc.).\n",
        "\n",
        "### Uses of Special Methods\n",
        "\n",
        "Special methods have important, more specific uses other than just making classes Pythonic (though that is often a consequence of using them).\n",
        "\n",
        "#### Emulating Numeric Types\n",
        "\n",
        "If a class could benefit from responding to operators like `+`, it's a good idea to have the class emulate a numeric type. A `Vector` class might come to mind.\n",
        "\n"
      ],
      "metadata": {
        "id": "yn63Ky9UCGjl"
      }
    },
    {
      "cell_type": "code",
      "source": [
        "class Vector:\n",
        "    def __init__(self, x=0, y=0):\n",
        "        self.x = x\n",
        "        self.y = y\n",
        "\n",
        "    def __repr__(self):\n",
        "        return f'Vector({self.x!r}, {self.y!r})'\n",
        "\n",
        "    def __abs__(self):\n",
        "        return (self.x ** 2 + self.y ** 2) ** 0.5\n",
        "\n",
        "    def __bool__(self):\n",
        "        return bool(abs(self))\n",
        "\n",
        "    def __add__(self, other):\n",
        "        x = self.x + other.x\n",
        "        y = self.y + other.y\n",
        "        return Vector(x, y)\n",
        "\n",
        "    def __mul__(self, scalar):\n",
        "        return Vector(self.x * scalar, self.y * scalar)"
      ],
      "metadata": {
        "id": "xwZWHSMtHigh"
      },
      "execution_count": 2,
      "outputs": []
    },
    {
      "cell_type": "markdown",
      "source": [
        "Vectors can be added and multiplied. It makes perfect sense to then use the `__add__` and `__mul__` special methods when implementing the `Vector` class. That way, we can sum and multiply Vector objects with operators `+` and `*`:"
      ],
      "metadata": {
        "id": "3MAlTam3IK82"
      }
    },
    {
      "cell_type": "code",
      "source": [
        "vector_1 = Vector(1, 3)\n",
        "vector_2 = Vector(3, 4)\n",
        "vector_3 = vector_1 + vector_2\n",
        "vector_4 = vector_1 * 3\n",
        "\n",
        "print(f\"Vector 1: {vector_1}\")\n",
        "print(f\"Vector 2: {vector_2}\")\n",
        "print(f\"Vector 1 + Vector 2: {vector_3}\")\n",
        "print(f\"Vector 1 * Vector 2: {vector_4}\")"
      ],
      "metadata": {
        "colab": {
          "base_uri": "https://localhost:8080/"
        },
        "id": "4Uc7hO9phfwU",
        "outputId": "2fe97e24-8c1f-460f-fd94-487d60bc87ec"
      },
      "execution_count": null,
      "outputs": [
        {
          "output_type": "stream",
          "name": "stdout",
          "text": [
            "Vector 1: Vector(1, 3)\n",
            "Vector 2: Vector(3, 4)\n",
            "Vector 1 + Vector 2: Vector(4, 7)\n",
            "Vector 1 * Vector 2: Vector(3, 9)\n"
          ]
        }
      ]
    },
    {
      "cell_type": "markdown",
      "source": [
        "Doesn't this just *feel* better than calling a regular method to sum and store the returned value, as shown below?\n",
        "\n",
        "```py\n",
        "vector_3 = vector_1.sum(vector_2)\n",
        "```"
      ],
      "metadata": {
        "id": "CxWeDeEnnaag"
      }
    },
    {
      "cell_type": "markdown",
      "source": [
        "#### String Representation\n",
        "\n",
        "In the `Vector` class, we also used special method `__repr__`. This is supposed to return the string representation of an object.\n",
        "\n",
        "> The string returned by `__repr__` should be unambiguous and, if possible, match the source code necessary to re-create the represented object.\n",
        "\n",
        "This method is used internally to this end. It is also called by `print` implicitly as fallback if the object has no `__str__` special method. `__str__` also serves the same purpose, but specifically exists to be called by `print`. Since sometimes the representation returned by `__repr__` is already user-friendly (`Vector` is a fitting example) and it is a fallback for `__str__` when calling `print`, the latter special method is redundant in these situations.\n",
        "\n",
        "> Programmers with prior experience in languages with a `toString` method tend to implement `__str__` and not `__repr__`. If you only implement one of these special methods in Python, choose `__repr__`.\n",
        "\n",
        "#### Boolean Value of a Custom Type\n",
        "\n",
        "Like other languages, Python has the concept of non-boolean objects being *truthy* of *falsy*.\n",
        "\n"
      ],
      "metadata": {
        "id": "ldHL25NqpJs1"
      }
    },
    {
      "cell_type": "code",
      "source": [
        "print(bool(1))\n",
        "print(bool(0))"
      ],
      "metadata": {
        "colab": {
          "base_uri": "https://localhost:8080/"
        },
        "id": "DSIF_Hrw3Li9",
        "outputId": "f4b00bbf-da7f-4f06-a82e-9add275b5fb1"
      },
      "execution_count": 1,
      "outputs": [
        {
          "output_type": "stream",
          "name": "stdout",
          "text": [
            "True\n"
          ]
        }
      ]
    },
    {
      "cell_type": "markdown",
      "source": [
        "Integer values `0` are falsy and `1` are truthy. What's going on here is that the built-in `bool` is calling the special method `__bool__` of these integer objects and returning what it gets from it. This allows us to use these objects in statements like `if` and `while`, as well as operators like `and`, `or`, and `not`.\n",
        "\n",
        "> By default, instances of user-defined classes are considered truthy, unless either `__bool__` or `__len__` is implemented. Basically, `bool(x)` calls `x.__bool__()` and uses\n",
        "the result. If `__bool__` is not implemented, Python tries to invoke x.`__len__()`, and\n",
        "if that returns zero, bool returns `False`. Otherwise bool returns `True`.\n",
        "\n",
        "\n",
        "In the `Vector` class above, this special method is leveraged. We can therefore use it in these statements and operators.\n"
      ],
      "metadata": {
        "id": "NXCBf1e43Z3G"
      }
    },
    {
      "cell_type": "code",
      "source": [
        "truthy_vector = Vector(1, 3)\n",
        "falsy_vector = Vector(0, 0)\n",
        "\n",
        "print(f\"Truthiness of Vector 1: {bool(truthy_vector)}\")\n",
        "print(f\"Truthiness of Vector 2: {bool(falsy_vector)}\")"
      ],
      "metadata": {
        "colab": {
          "base_uri": "https://localhost:8080/"
        },
        "id": "oYzWgiDU45-S",
        "outputId": "1936ba99-a6b8-4fea-fff6-11051692c82f"
      },
      "execution_count": 3,
      "outputs": [
        {
          "output_type": "stream",
          "name": "stdout",
          "text": [
            "Truthiness of Vector 1: True\n",
            "Truthiness of Vector 2: False\n"
          ]
        }
      ]
    },
    {
      "cell_type": "markdown",
      "source": [
        "## Conclusion\n",
        "Special methods allow for Pythonic objects that behave like built-in types, giving an expressive and consistent feel to the code overall. They are your friends! Use them whenever is appropiate to make better Python code."
      ],
      "metadata": {
        "id": "1SVyD1sH5gys"
      }
    }
  ]
}